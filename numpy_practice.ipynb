{
  "cells": [
    {
      "cell_type": "code",
      "execution_count": 23,
      "metadata": {
        "id": "RQuc2BFvg5z3"
      },
      "outputs": [],
      "source": [
        "import numpy as np"
      ]
    },
    {
      "cell_type": "code",
      "execution_count": null,
      "metadata": {
        "colab": {
          "base_uri": "https://localhost:8080/"
        },
        "id": "reGqeTHjgP_J",
        "outputId": "aecf58b2-c4d0-416b-b8ab-0a2d96ffdf56"
      },
      "outputs": [
        {
          "name": "stdout",
          "output_type": "stream",
          "text": [
            "[1 2 3 4 5 6 7]\n"
          ]
        }
      ],
      "source": [
        "x = [1,2,3,4,5,6,7]\n",
        "y = np.array(x)               ## create 1d\n",
        "print(y)\n",
        "\n"
      ]
    },
    {
      "cell_type": "code",
      "execution_count": 25,
      "metadata": {
        "colab": {
          "base_uri": "https://localhost:8080/"
        },
        "id": "IX8Bs-SQ0Qfk",
        "outputId": "e3025941-33d6-4fb4-bce1-1600ade534ee"
      },
      "outputs": [
        {
          "data": {
            "text/plain": [
              "array([1, 2, 3, 4])"
            ]
          },
          "execution_count": 25,
          "metadata": {},
          "output_type": "execute_result"
        }
      ],
      "source": [
        "y = np.arange(1,5)\n",
        "y"
      ]
    },
    {
      "cell_type": "code",
      "execution_count": 26,
      "metadata": {
        "colab": {
          "base_uri": "https://localhost:8080/"
        },
        "id": "T3rg247fmAod",
        "outputId": "2507643c-ae6b-4d2b-9cf6-02ff2e57051d"
      },
      "outputs": [
        {
          "data": {
            "text/plain": [
              "4"
            ]
          },
          "execution_count": 26,
          "metadata": {},
          "output_type": "execute_result"
        }
      ],
      "source": [
        "y.size"
      ]
    },
    {
      "cell_type": "code",
      "execution_count": 27,
      "metadata": {
        "colab": {
          "base_uri": "https://localhost:8080/"
        },
        "id": "DRBHtDxmoVz6",
        "outputId": "889e1025-a257-49f3-f739-00a8aab0f3bd"
      },
      "outputs": [
        {
          "data": {
            "text/plain": [
              "(4,)"
            ]
          },
          "execution_count": 27,
          "metadata": {},
          "output_type": "execute_result"
        }
      ],
      "source": [
        "y.shape"
      ]
    },
    {
      "cell_type": "code",
      "execution_count": 28,
      "metadata": {
        "colab": {
          "base_uri": "https://localhost:8080/"
        },
        "id": "eo5lxwT5oYAo",
        "outputId": "8375e09e-225a-4a3d-c2b0-c5dcec0097c8"
      },
      "outputs": [
        {
          "data": {
            "text/plain": [
              "1"
            ]
          },
          "execution_count": 28,
          "metadata": {},
          "output_type": "execute_result"
        }
      ],
      "source": [
        "y.ndim"
      ]
    },
    {
      "cell_type": "code",
      "execution_count": 29,
      "metadata": {
        "colab": {
          "base_uri": "https://localhost:8080/"
        },
        "id": "FJH92egq4UFe",
        "outputId": "d4ca2cad-4c4d-40c0-e196-90f9b3f924e7"
      },
      "outputs": [
        {
          "data": {
            "text/plain": [
              "dtype('int64')"
            ]
          },
          "execution_count": 29,
          "metadata": {},
          "output_type": "execute_result"
        }
      ],
      "source": [
        "y.dtype"
      ]
    },
    {
      "cell_type": "code",
      "execution_count": 30,
      "metadata": {
        "colab": {
          "base_uri": "https://localhost:8080/"
        },
        "id": "bLtxWZC04W2X",
        "outputId": "4832172e-e5fa-438e-bf6f-0fb1a81a3e81"
      },
      "outputs": [
        {
          "data": {
            "text/plain": [
              "8"
            ]
          },
          "execution_count": 30,
          "metadata": {},
          "output_type": "execute_result"
        }
      ],
      "source": [
        "y.itemsize"
      ]
    },
    {
      "cell_type": "code",
      "execution_count": 31,
      "metadata": {
        "colab": {
          "base_uri": "https://localhost:8080/"
        },
        "id": "e5iGGbFV4ahc",
        "outputId": "043fc635-4e02-4bed-ad23-acb128e05105"
      },
      "outputs": [
        {
          "data": {
            "text/plain": [
              "<memory at 0x7e11f1448640>"
            ]
          },
          "execution_count": 31,
          "metadata": {},
          "output_type": "execute_result"
        }
      ],
      "source": [
        "y.data"
      ]
    },
    {
      "cell_type": "code",
      "execution_count": 32,
      "metadata": {
        "colab": {
          "base_uri": "https://localhost:8080/"
        },
        "id": "lRxAGHj2ymi3",
        "outputId": "ddea6737-f47d-4076-c1c9-4d247dc5141d"
      },
      "outputs": [
        {
          "data": {
            "text/plain": [
              "array([0., 0., 0., 0., 0.])"
            ]
          },
          "execution_count": 32,
          "metadata": {},
          "output_type": "execute_result"
        }
      ],
      "source": [
        "y = np.zeros(5)\n",
        "y         ## create array"
      ]
    },
    {
      "cell_type": "code",
      "execution_count": 33,
      "metadata": {
        "colab": {
          "base_uri": "https://localhost:8080/"
        },
        "id": "xYYXVLiry4bP",
        "outputId": "d03aa362-5797-40b0-930c-f881be8f5077"
      },
      "outputs": [
        {
          "data": {
            "text/plain": [
              "array([1., 1., 1., 1., 1.])"
            ]
          },
          "execution_count": 33,
          "metadata": {},
          "output_type": "execute_result"
        }
      ],
      "source": [
        "y= np.ones(5)\n",
        "y"
      ]
    },
    {
      "cell_type": "code",
      "execution_count": null,
      "metadata": {
        "colab": {
          "base_uri": "https://localhost:8080/"
        },
        "id": "C5BCa0-ljd2s",
        "outputId": "b5e040f3-e2d9-4720-b18e-d66a4a156bbf"
      },
      "outputs": [
        {
          "data": {
            "text/plain": [
              "array([[1, 2, 3, 4],\n",
              "       [5, 6, 7, 8]])"
            ]
          },
          "execution_count": 34,
          "metadata": {},
          "output_type": "execute_result"
        }
      ],
      "source": [
        "x = [[1,2,3,4],[5,6,7,8]]          ## 2d\n",
        "y = np.array(x)\n",
        "y\n"
      ]
    },
    {
      "cell_type": "code",
      "execution_count": 35,
      "metadata": {
        "colab": {
          "base_uri": "https://localhost:8080/"
        },
        "id": "LPM2QETt0XZ_",
        "outputId": "c8a155f7-b45a-4204-f4d1-21f5acda4976"
      },
      "outputs": [
        {
          "data": {
            "text/plain": [
              "array([2, 4])"
            ]
          },
          "execution_count": 35,
          "metadata": {},
          "output_type": "execute_result"
        }
      ],
      "source": [
        "y = np.arange(2,6,2)\n",
        "y"
      ]
    },
    {
      "cell_type": "code",
      "execution_count": 36,
      "metadata": {
        "colab": {
          "base_uri": "https://localhost:8080/"
        },
        "id": "oromOzINlNoD",
        "outputId": "161cfbd4-0244-403b-87c8-8313a5bf7739"
      },
      "outputs": [
        {
          "data": {
            "text/plain": [
              "2"
            ]
          },
          "execution_count": 36,
          "metadata": {},
          "output_type": "execute_result"
        }
      ],
      "source": [
        "y.size"
      ]
    },
    {
      "cell_type": "code",
      "execution_count": 37,
      "metadata": {
        "colab": {
          "base_uri": "https://localhost:8080/"
        },
        "id": "_UjVu_7Co5Xf",
        "outputId": "4c1adfdd-47b6-4df4-f6e4-c5e4536a6728"
      },
      "outputs": [
        {
          "data": {
            "text/plain": [
              "(2,)"
            ]
          },
          "execution_count": 37,
          "metadata": {},
          "output_type": "execute_result"
        }
      ],
      "source": [
        "y.shape"
      ]
    },
    {
      "cell_type": "code",
      "execution_count": 38,
      "metadata": {
        "colab": {
          "base_uri": "https://localhost:8080/"
        },
        "id": "sBrQV4Heo-s6",
        "outputId": "d284c49f-60c6-4058-ebaa-208daa144d64"
      },
      "outputs": [
        {
          "data": {
            "text/plain": [
              "1"
            ]
          },
          "execution_count": 38,
          "metadata": {},
          "output_type": "execute_result"
        }
      ],
      "source": [
        "y.ndim"
      ]
    },
    {
      "cell_type": "code",
      "execution_count": 39,
      "metadata": {
        "colab": {
          "base_uri": "https://localhost:8080/"
        },
        "id": "WKVLzK6K4jQ5",
        "outputId": "724843c8-b24a-4d72-83ef-dbab5a418614"
      },
      "outputs": [
        {
          "data": {
            "text/plain": [
              "8"
            ]
          },
          "execution_count": 39,
          "metadata": {},
          "output_type": "execute_result"
        }
      ],
      "source": [
        "y.itemsize"
      ]
    },
    {
      "cell_type": "code",
      "execution_count": 40,
      "metadata": {
        "colab": {
          "base_uri": "https://localhost:8080/"
        },
        "id": "UTCaFEPr4l3d",
        "outputId": "f3d9dd74-3abe-40d5-d214-04f71a106d01"
      },
      "outputs": [
        {
          "data": {
            "text/plain": [
              "<memory at 0x7e11e88d1600>"
            ]
          },
          "execution_count": 40,
          "metadata": {},
          "output_type": "execute_result"
        }
      ],
      "source": [
        "y.data"
      ]
    },
    {
      "cell_type": "code",
      "execution_count": 41,
      "metadata": {
        "colab": {
          "base_uri": "https://localhost:8080/"
        },
        "id": "IZ4pwhXny9c-",
        "outputId": "988a5134-0ffe-4ea4-8167-4d3e854fefe3"
      },
      "outputs": [
        {
          "data": {
            "text/plain": [
              "array([[0., 0., 0., 0.],\n",
              "       [0., 0., 0., 0.]])"
            ]
          },
          "execution_count": 41,
          "metadata": {},
          "output_type": "execute_result"
        }
      ],
      "source": [
        "y = np.zeros((2,4))\n",
        "y"
      ]
    },
    {
      "cell_type": "code",
      "execution_count": 42,
      "metadata": {
        "colab": {
          "base_uri": "https://localhost:8080/"
        },
        "id": "-zEGf2Tpzzyb",
        "outputId": "5c94ea0b-b263-4f67-dfff-ce1cd5ef8474"
      },
      "outputs": [
        {
          "data": {
            "text/plain": [
              "array([[1., 1., 1.],\n",
              "       [1., 1., 1.]])"
            ]
          },
          "execution_count": 42,
          "metadata": {},
          "output_type": "execute_result"
        }
      ],
      "source": [
        "y = np.ones((2,3))\n",
        "y"
      ]
    },
    {
      "cell_type": "code",
      "execution_count": 43,
      "metadata": {
        "colab": {
          "base_uri": "https://localhost:8080/"
        },
        "id": "vDt-jjfIpBca",
        "outputId": "c1c2e114-dac3-4538-9e34-51cbea87e7cf"
      },
      "outputs": [
        {
          "data": {
            "text/plain": [
              "array([[[ 1,  2,  3],\n",
              "        [ 4,  5,  6]],\n",
              "\n",
              "       [[ 7,  8,  9],\n",
              "        [10, 11, 12]],\n",
              "\n",
              "       [[13, 14, 15],\n",
              "        [16, 17, 18]]])"
            ]
          },
          "execution_count": 43,
          "metadata": {},
          "output_type": "execute_result"
        }
      ],
      "source": [
        "x = [[[1,2,3],[4,5,6]],[[7,8,9],[10,11,12]],[[13,14,15],[16,17,18]]]\n",
        "y = np.array(x)\n",
        "y"
      ]
    },
    {
      "cell_type": "code",
      "execution_count": 44,
      "metadata": {
        "colab": {
          "base_uri": "https://localhost:8080/"
        },
        "id": "sbSHSNYEzUWm",
        "outputId": "fcb65e93-afde-4442-8bd6-f1b8359d7559"
      },
      "outputs": [
        {
          "data": {
            "text/plain": [
              "array([[[0., 0.],\n",
              "        [0., 0.]],\n",
              "\n",
              "       [[0., 0.],\n",
              "        [0., 0.]],\n",
              "\n",
              "       [[0., 0.],\n",
              "        [0., 0.]]])"
            ]
          },
          "execution_count": 44,
          "metadata": {},
          "output_type": "execute_result"
        }
      ],
      "source": [
        "y = np.zeros((3,2,2))\n",
        "y"
      ]
    },
    {
      "cell_type": "code",
      "execution_count": 45,
      "metadata": {
        "colab": {
          "base_uri": "https://localhost:8080/"
        },
        "id": "iTu_rFTgzrXH",
        "outputId": "0baad871-0b50-419e-9643-6e68cb1d79be"
      },
      "outputs": [
        {
          "data": {
            "text/plain": [
              "array([[[1., 1., 1., 1.],\n",
              "        [1., 1., 1., 1.]],\n",
              "\n",
              "       [[1., 1., 1., 1.],\n",
              "        [1., 1., 1., 1.]]])"
            ]
          },
          "execution_count": 45,
          "metadata": {},
          "output_type": "execute_result"
        }
      ],
      "source": [
        "y = np.ones((2,2,4))\n",
        "y"
      ]
    },
    {
      "cell_type": "code",
      "execution_count": 46,
      "metadata": {
        "colab": {
          "base_uri": "https://localhost:8080/"
        },
        "id": "9bswn4Eip3iQ",
        "outputId": "f086e58a-e7ef-4e3c-d05d-e56f1baa044d"
      },
      "outputs": [
        {
          "data": {
            "text/plain": [
              "16"
            ]
          },
          "execution_count": 46,
          "metadata": {},
          "output_type": "execute_result"
        }
      ],
      "source": [
        "y.size"
      ]
    },
    {
      "cell_type": "code",
      "execution_count": 47,
      "metadata": {
        "colab": {
          "base_uri": "https://localhost:8080/"
        },
        "id": "p17rwSk9p6H5",
        "outputId": "6f97576e-8549-4213-8f77-efec21bdf864"
      },
      "outputs": [
        {
          "data": {
            "text/plain": [
              "3"
            ]
          },
          "execution_count": 47,
          "metadata": {},
          "output_type": "execute_result"
        }
      ],
      "source": [
        "y.ndim"
      ]
    },
    {
      "cell_type": "code",
      "execution_count": 48,
      "metadata": {
        "colab": {
          "base_uri": "https://localhost:8080/"
        },
        "id": "e6tfkenzp9z7",
        "outputId": "f041f35f-a39b-459e-e5e6-ede0352991c5"
      },
      "outputs": [
        {
          "data": {
            "text/plain": [
              "(2, 2, 4)"
            ]
          },
          "execution_count": 48,
          "metadata": {},
          "output_type": "execute_result"
        }
      ],
      "source": [
        "y.shape"
      ]
    },
    {
      "cell_type": "code",
      "execution_count": 49,
      "metadata": {
        "colab": {
          "base_uri": "https://localhost:8080/"
        },
        "id": "MYBLgnzW1LPn",
        "outputId": "4f3fa5f4-1288-47f3-b5bf-b54254dd524c"
      },
      "outputs": [
        {
          "data": {
            "text/plain": [
              "array([0.4593718 , 0.00499723, 0.80591471])"
            ]
          },
          "execution_count": 49,
          "metadata": {},
          "output_type": "execute_result"
        }
      ],
      "source": [
        "y = np.random.rand(3)\n",
        "y"
      ]
    },
    {
      "cell_type": "code",
      "execution_count": 50,
      "metadata": {
        "colab": {
          "base_uri": "https://localhost:8080/"
        },
        "id": "kD_6UZtu1duF",
        "outputId": "59e236f4-1ffc-4f33-a410-d82283518395"
      },
      "outputs": [
        {
          "data": {
            "text/plain": [
              "array([[0.6367826 , 0.13030885, 0.17987738, 0.52474011, 0.95290977,\n",
              "        0.64578695, 0.84273226, 0.22628039, 0.0807347 ],\n",
              "       [0.45016074, 0.29923675, 0.27287559, 0.10087125, 0.77855319,\n",
              "        0.63254614, 0.11638008, 0.33939573, 0.23241335],\n",
              "       [0.45755139, 0.94461237, 0.59499455, 0.05359232, 0.48901396,\n",
              "        0.28221176, 0.42630279, 0.16269498, 0.88875791]])"
            ]
          },
          "execution_count": 50,
          "metadata": {},
          "output_type": "execute_result"
        }
      ],
      "source": [
        "y = np.random.rand(3,9)\n",
        "y"
      ]
    },
    {
      "cell_type": "code",
      "execution_count": 51,
      "metadata": {
        "colab": {
          "base_uri": "https://localhost:8080/"
        },
        "id": "mQF2vVJ51iPs",
        "outputId": "130de8d5-2648-476f-8476-51fc013049b4"
      },
      "outputs": [
        {
          "data": {
            "text/plain": [
              "array([[[6.58913122e-01, 3.85583627e-01],\n",
              "        [6.04664415e-01, 3.78302051e-01],\n",
              "        [9.51565425e-01, 5.61096915e-01],\n",
              "        [6.23308287e-01, 9.04100093e-04],\n",
              "        [9.97021843e-01, 9.25095598e-01],\n",
              "        [8.82564502e-01, 6.59175571e-01],\n",
              "        [3.67804440e-01, 4.24980071e-01],\n",
              "        [3.39453054e-01, 8.02836683e-01],\n",
              "        [5.02293317e-01, 9.62593945e-01]],\n",
              "\n",
              "       [[8.40244058e-01, 1.26349170e-01],\n",
              "        [1.76028043e-01, 6.07462772e-01],\n",
              "        [6.71393763e-01, 1.48350265e-01],\n",
              "        [6.58999021e-01, 3.23658746e-01],\n",
              "        [8.51202235e-01, 4.46144153e-01],\n",
              "        [3.23382806e-01, 9.99686446e-02],\n",
              "        [9.39260854e-01, 2.17000630e-01],\n",
              "        [1.37091792e-01, 7.86325826e-01],\n",
              "        [8.47361792e-03, 3.60348504e-01]],\n",
              "\n",
              "       [[7.08063682e-01, 4.75745730e-01],\n",
              "        [6.34541281e-01, 8.37946023e-01],\n",
              "        [4.82465069e-02, 5.72736828e-01],\n",
              "        [6.49192088e-01, 6.47793517e-01],\n",
              "        [4.56819433e-01, 7.52275747e-01],\n",
              "        [9.31064405e-02, 9.01668542e-01],\n",
              "        [4.88796771e-02, 9.94644371e-01],\n",
              "        [3.30851785e-01, 9.25059741e-01],\n",
              "        [6.53652586e-01, 6.47736505e-01]]])"
            ]
          },
          "execution_count": 51,
          "metadata": {},
          "output_type": "execute_result"
        }
      ],
      "source": [
        "y = np.random.rand(3,9,2)\n",
        "y"
      ]
    },
    {
      "cell_type": "code",
      "execution_count": 52,
      "metadata": {
        "colab": {
          "base_uri": "https://localhost:8080/"
        },
        "id": "KSh3m5ln1nwE",
        "outputId": "8e54145b-6928-43d8-8862-f7b5d2a0f674"
      },
      "outputs": [
        {
          "data": {
            "text/plain": [
              "array([3.42335645e-315, 0.00000000e+000, 5.73116149e-322, 8.70018275e-313])"
            ]
          },
          "execution_count": 52,
          "metadata": {},
          "output_type": "execute_result"
        }
      ],
      "source": [
        "x = np.empty(4)\n",
        "x"
      ]
    },
    {
      "cell_type": "code",
      "execution_count": 53,
      "metadata": {
        "colab": {
          "base_uri": "https://localhost:8080/"
        },
        "id": "czvbQV821t5F",
        "outputId": "c7d31fa2-ffa8-4062-9752-9895e968b717"
      },
      "outputs": [
        {
          "data": {
            "text/plain": [
              "array([[1.  , 0.  , 0.16, 1.  , 1.  , 0.  , 0.  , 1.  ],\n",
              "       [1.  , 1.  , 0.  , 1.  , 0.  , 1.  , 0.  , 1.  ],\n",
              "       [0.  , 1.  , 1.  , 1.  , 0.  , 0.  , 1.  , 1.  ],\n",
              "       [1.  , 0.  , 1.  , 1.  , 1.  , 0.  , 0.75, 1.  ]])"
            ]
          },
          "execution_count": 53,
          "metadata": {},
          "output_type": "execute_result"
        }
      ],
      "source": [
        "x = np.empty((4,8))\n",
        "x"
      ]
    },
    {
      "cell_type": "code",
      "execution_count": 54,
      "metadata": {
        "colab": {
          "base_uri": "https://localhost:8080/"
        },
        "id": "F9Bb20CW10v2",
        "outputId": "76b254f3-1591-40ed-f2d0-dc3049ff1fea"
      },
      "outputs": [
        {
          "data": {
            "text/plain": [
              "array([[[8.36551952e-319, 0.00000000e+000],\n",
              "        [2.33198985e-321,             nan],\n",
              "        [4.94065646e-322, 1.20480715e+132],\n",
              "        [4.18680431e-062, 8.04695552e-096],\n",
              "        [5.88460073e-062, 8.18744134e+140],\n",
              "        [6.01347002e-154, 1.38133305e-047],\n",
              "        [1.26931568e-076, 5.88647381e-062],\n",
              "        [1.26931305e-076, 6.01346953e-154]],\n",
              "\n",
              "       [[1.57776886e-052, 3.43568691e+179],\n",
              "        [1.03344127e-047, 3.43506612e+179],\n",
              "        [5.98149210e-154, 7.42400542e-047],\n",
              "        [5.35422556e-038, 1.55736719e-033],\n",
              "        [3.11774072e-033, 1.15298170e-259],\n",
              "        [6.01347002e-154, 1.02942371e-071],\n",
              "        [8.04695552e-096, 2.62978245e-052],\n",
              "        [8.18744134e+140, 6.01347002e-154]],\n",
              "\n",
              "       [[1.90219989e-052, 1.26931370e-076],\n",
              "        [1.42670732e-071, 1.26931306e-076],\n",
              "        [6.01346953e-154, 1.03320477e-047],\n",
              "        [2.62650097e+179, 5.60157190e-067],\n",
              "        [2.79048099e+179, 5.98149210e-154],\n",
              "        [2.63753656e-061, 1.69136211e-052],\n",
              "        [2.37635375e-038, 6.52743757e-038],\n",
              "        [1.15297984e-259, 6.01347002e-154]],\n",
              "\n",
              "       [[6.12482735e-062, 8.04695552e-096],\n",
              "        [6.12767611e-062, 8.18744134e+140],\n",
              "        [6.01346953e-154, 2.40717335e-057],\n",
              "        [3.92384786e+179, 5.59939853e-067],\n",
              "        [2.62839310e+179, 5.98149210e-154],\n",
              "        [6.14099335e-071, 2.58391794e-057],\n",
              "        [5.53287972e-048, 1.04015087e-042],\n",
              "        [1.15297984e-259, 6.84850978e-310]]])"
            ]
          },
          "execution_count": 54,
          "metadata": {},
          "output_type": "execute_result"
        }
      ],
      "source": [
        "x = np.empty((4,8,2))\n",
        "x"
      ]
    },
    {
      "cell_type": "code",
      "execution_count": 55,
      "metadata": {
        "colab": {
          "base_uri": "https://localhost:8080/"
        },
        "id": "Rw3IteYu16Kc",
        "outputId": "21787562-76ec-4a9c-9f08-1080f3400ec7"
      },
      "outputs": [
        {
          "data": {
            "text/plain": [
              "array([5])"
            ]
          },
          "execution_count": 55,
          "metadata": {},
          "output_type": "execute_result"
        }
      ],
      "source": [
        "x = np.full(1,5)\n",
        "x"
      ]
    },
    {
      "cell_type": "code",
      "execution_count": 56,
      "metadata": {
        "colab": {
          "base_uri": "https://localhost:8080/"
        },
        "id": "u_S31a2a2JB9",
        "outputId": "c56f4b96-511e-4a8a-db23-353d0306dcf1"
      },
      "outputs": [
        {
          "data": {
            "text/plain": [
              "array([[8, 8, 8, 8, 8],\n",
              "       [8, 8, 8, 8, 8]])"
            ]
          },
          "execution_count": 56,
          "metadata": {},
          "output_type": "execute_result"
        }
      ],
      "source": [
        "x = np.full((2,5),8)\n",
        "x"
      ]
    },
    {
      "cell_type": "code",
      "execution_count": 57,
      "metadata": {
        "colab": {
          "base_uri": "https://localhost:8080/"
        },
        "id": "wBijzZUg2TIS",
        "outputId": "0efcbff6-9aab-406f-cb74-722beab3eafe"
      },
      "outputs": [
        {
          "data": {
            "text/plain": [
              "array([[[9, 9, 9],\n",
              "        [9, 9, 9],\n",
              "        [9, 9, 9],\n",
              "        [9, 9, 9],\n",
              "        [9, 9, 9]],\n",
              "\n",
              "       [[9, 9, 9],\n",
              "        [9, 9, 9],\n",
              "        [9, 9, 9],\n",
              "        [9, 9, 9],\n",
              "        [9, 9, 9]],\n",
              "\n",
              "       [[9, 9, 9],\n",
              "        [9, 9, 9],\n",
              "        [9, 9, 9],\n",
              "        [9, 9, 9],\n",
              "        [9, 9, 9]]])"
            ]
          },
          "execution_count": 57,
          "metadata": {},
          "output_type": "execute_result"
        }
      ],
      "source": [
        "x = np.full((3,5,3),9)\n",
        "x"
      ]
    },
    {
      "cell_type": "code",
      "execution_count": 58,
      "metadata": {
        "colab": {
          "base_uri": "https://localhost:8080/"
        },
        "id": "uOQ8zmXr2dDn",
        "outputId": "3f5012ef-13d6-4f4f-b898-72a72b1ce171"
      },
      "outputs": [
        {
          "name": "stdout",
          "output_type": "stream",
          "text": [
            "[dtype('int64'), dtype('int64'), dtype('float64'), dtype('complex128'), dtype('bool')]\n"
          ]
        }
      ],
      "source": [
        "x= np.array([1,2,3])\n",
        "y = np.array([-1,-3,4])\n",
        "n = np.array([0.2,1.5,7.56])\n",
        "z = np.array([1+2j,2+4j])\n",
        "m = np.array([True,False])\n",
        "res = [x.dtype,y.dtype,n.dtype,z.dtype,m.dtype]\n",
        "print(res)"
      ]
    },
    {
      "cell_type": "code",
      "execution_count": 59,
      "metadata": {
        "colab": {
          "base_uri": "https://localhost:8080/"
        },
        "id": "iT2X-WNc3yRC",
        "outputId": "d176adb3-32d1-4ee8-b357-c58a5b1eac75"
      },
      "outputs": [
        {
          "data": {
            "text/plain": [
              "array([1., 2., 3.], dtype=float32)"
            ]
          },
          "execution_count": 59,
          "metadata": {},
          "output_type": "execute_result"
        }
      ],
      "source": [
        "x= np.array([1,2,3],dtype = \"float32\")\n",
        "x"
      ]
    },
    {
      "cell_type": "code",
      "execution_count": 61,
      "metadata": {
        "colab": {
          "base_uri": "https://localhost:8080/",
          "height": 162
        },
        "id": "sOP1MKxQ38DT",
        "outputId": "c1ae825b-1965-45d0-b2f0-d9affeb31e86"
      },
      "outputs": [
        {
          "ename": "TypeError",
          "evalue": "int() argument must be a string, a bytes-like object or a real number, not 'complex'",
          "output_type": "error",
          "traceback": [
            "\u001b[0;31m---------------------------------------------------------------------------\u001b[0m",
            "\u001b[0;31mTypeError\u001b[0m                                 Traceback (most recent call last)",
            "\u001b[0;32m/tmp/ipython-input-836717661.py\u001b[0m in \u001b[0;36m<cell line: 0>\u001b[0;34m()\u001b[0m\n\u001b[0;32m----> 1\u001b[0;31m \u001b[0mz\u001b[0m \u001b[0;34m=\u001b[0m \u001b[0mnp\u001b[0m\u001b[0;34m.\u001b[0m\u001b[0marray\u001b[0m\u001b[0;34m(\u001b[0m\u001b[0;34m[\u001b[0m\u001b[0;36m1\u001b[0m\u001b[0;34m+\u001b[0m\u001b[0;36m2j\u001b[0m\u001b[0;34m,\u001b[0m\u001b[0;36m2\u001b[0m\u001b[0;34m+\u001b[0m\u001b[0;36m4j\u001b[0m\u001b[0;34m]\u001b[0m\u001b[0;34m,\u001b[0m\u001b[0mdtype\u001b[0m \u001b[0;34m=\u001b[0m \u001b[0;34m\"int32\"\u001b[0m\u001b[0;34m)\u001b[0m\u001b[0;34m\u001b[0m\u001b[0;34m\u001b[0m\u001b[0m\n\u001b[0m\u001b[1;32m      2\u001b[0m \u001b[0mz\u001b[0m\u001b[0;34m\u001b[0m\u001b[0;34m\u001b[0m\u001b[0m\n",
            "\u001b[0;31mTypeError\u001b[0m: int() argument must be a string, a bytes-like object or a real number, not 'complex'"
          ]
        }
      ],
      "source": [
        "z = np.array([1+2j,2+4j],dtype = \"int32\")\n",
        "z"
      ]
    },
    {
      "cell_type": "code",
      "execution_count": 62,
      "metadata": {
        "id": "_59fchxD4PAs"
      },
      "outputs": [],
      "source": [
        "file = np.array([[1,2,3],[4,5,6]])\n",
        "np.save(\"documents.npy\",file)"
      ]
    },
    {
      "cell_type": "code",
      "execution_count": 63,
      "metadata": {
        "colab": {
          "base_uri": "https://localhost:8080/"
        },
        "id": "xGwQAduj5IM7",
        "outputId": "87cdf522-7347-4661-e186-0d834db67da4"
      },
      "outputs": [
        {
          "name": "stdout",
          "output_type": "stream",
          "text": [
            "[[1 2 3]\n",
            " [4 5 6]]\n"
          ]
        }
      ],
      "source": [
        "loaded = np.load(\"documents.npy\")\n",
        "print(loaded)"
      ]
    },
    {
      "cell_type": "code",
      "execution_count": 64,
      "metadata": {
        "id": "QABV5s6s5X-D"
      },
      "outputs": [],
      "source": [
        "np.savetxt(\"documents.txt\",file)"
      ]
    },
    {
      "cell_type": "code",
      "execution_count": 65,
      "metadata": {
        "colab": {
          "base_uri": "https://localhost:8080/"
        },
        "id": "zq1KtvJJ5ee6",
        "outputId": "20f6dc1d-d5ad-4fb4-cd41-6d383f31fea7"
      },
      "outputs": [
        {
          "name": "stdout",
          "output_type": "stream",
          "text": [
            "[[1. 2. 3.]\n",
            " [4. 5. 6.]]\n"
          ]
        }
      ],
      "source": [
        "loaded = np.loadtxt(\"documents.txt\")\n",
        "print(loaded)"
      ]
    },
    {
      "cell_type": "code",
      "execution_count": 79,
      "metadata": {
        "colab": {
          "base_uri": "https://localhost:8080/"
        },
        "id": "smtpLVnh6A1o",
        "outputId": "60609771-35af-4841-eda5-69b774b52d56"
      },
      "outputs": [
        {
          "name": "stdout",
          "output_type": "stream",
          "text": [
            "5\n",
            "[4 5 6 7 8 9]\n",
            "[1 2 3 4 5 6 7]\n",
            "[8 9]\n",
            "[3 5 7]\n"
          ]
        }
      ],
      "source": [
        "x = np.array([1,2,3,4,5,6,7,8,9])\n",
        "print(x[4])\n",
        "print(x[3:])\n",
        "print(x[:-2])\n",
        "print(x[-2:])\n",
        "print(x[2:8:2])\n"
      ]
    },
    {
      "cell_type": "code",
      "execution_count": 68,
      "metadata": {
        "colab": {
          "base_uri": "https://localhost:8080/"
        },
        "id": "Z82jG_9ZWy8A",
        "outputId": "41270ba6-4c37-466a-ade7-88e322e3f76b"
      },
      "outputs": [
        {
          "name": "stdout",
          "output_type": "stream",
          "text": [
            "6\n",
            "4\n"
          ]
        }
      ],
      "source": [
        "x = np.array([1,2,3,4,5,6,7])\n",
        "print(x[5])\n",
        "print(x[-4])\n"
      ]
    },
    {
      "cell_type": "code",
      "execution_count": 83,
      "metadata": {
        "colab": {
          "base_uri": "https://localhost:8080/"
        },
        "id": "GPt-fshcXHPs",
        "outputId": "4fb372dc-734e-4773-a27d-247c9f7bc1dd"
      },
      "outputs": [
        {
          "name": "stdout",
          "output_type": "stream",
          "text": [
            "8\n",
            "3\n",
            "[7 9 2]\n",
            "[6 8]\n",
            "[[[13 14 15 16]\n",
            "  [17 18 19 20]\n",
            "  [21 22 23 24]]]\n"
          ]
        }
      ],
      "source": [
        "y = np.array([[1, 3, 5],[7, 9, 2],[4, 6, 8]])\n",
        "print(y[2,2])\n",
        "print(y[0,1])\n",
        "print(y[1])\n",
        "print(y[2,1:])\n",
        "print(x[1::3])"
      ]
    },
    {
      "cell_type": "code",
      "execution_count": 85,
      "metadata": {
        "colab": {
          "base_uri": "https://localhost:8080/"
        },
        "id": "xnzXUlbPXjcz",
        "outputId": "8da2e433-ffc5-42b2-d043-1eb3df3f8258"
      },
      "outputs": [
        {
          "name": "stdout",
          "output_type": "stream",
          "text": [
            "24\n",
            "22\n",
            "[[[10 11 12]]\n",
            "\n",
            " [[22 23 24]]]\n",
            "[[[13 14 15 16]\n",
            "  [17 18 19 20]\n",
            "  [21 22 23 24]]]\n"
          ]
        }
      ],
      "source": [
        "x = np.array([[[1, 2, 3, 4], [5, 6, 7, 8], [9, 10, 11, 12]],[[13, 14, 15, 16], [17, 18, 19, 20], [21, 22, 23, 24]]])\n",
        "print(x[1,2,3])\n",
        "print(x[1,2,1])\n",
        "print(x[0:3,2:,1:])\n",
        "print(x[1::3])\n"
      ]
    },
    {
      "cell_type": "code",
      "execution_count": 86,
      "metadata": {
        "colab": {
          "base_uri": "https://localhost:8080/"
        },
        "id": "NB2gURSkX-AD",
        "outputId": "7f922271-413f-422d-b262-d71df5259044"
      },
      "outputs": [
        {
          "name": "stdout",
          "output_type": "stream",
          "text": [
            "[[[1 2]\n",
            "  [3 4]]\n",
            "\n",
            " [[5 6]\n",
            "  [7 8]]]\n"
          ]
        }
      ],
      "source": [
        "x = np.array([1,2,3,4,5,6,7,8])\n",
        "y = np.reshape(x,(2,2,2))\n",
        "print(y)\n"
      ]
    },
    {
      "cell_type": "code",
      "execution_count": 88,
      "metadata": {
        "colab": {
          "base_uri": "https://localhost:8080/"
        },
        "id": "5IYIlW73d-_h",
        "outputId": "e088c5a3-7353-45ac-8bbb-94b79afbc00a"
      },
      "outputs": [
        {
          "name": "stdout",
          "output_type": "stream",
          "text": [
            "[[1 2]\n",
            " [3 4]\n",
            " [5 6]\n",
            " [7 8]]\n"
          ]
        }
      ],
      "source": [
        "x = np.array([1,2,3,4,5,6,7,8])\n",
        "y = np.reshape(x,(4,2))\n",
        "print(y)"
      ]
    },
    {
      "cell_type": "code",
      "execution_count": 89,
      "metadata": {
        "colab": {
          "base_uri": "https://localhost:8080/"
        },
        "id": "wwMtQYgjeZii",
        "outputId": "7ecf7b45-e3bc-4823-e711-36517caa71d9"
      },
      "outputs": [
        {
          "name": "stdout",
          "output_type": "stream",
          "text": [
            "[ 1  2  3  4  5  6  7  8  9 10 11 12 13 14 15 16 17 18 19 20 21 22 23 24]\n"
          ]
        }
      ],
      "source": [
        "\n",
        "\n",
        "x = np.array([[[1, 2, 3, 4], [5, 6, 7, 8], [9, 10, 11, 12]],[[13, 14, 15, 16], [17, 18, 19, 20], [21, 22, 23, 24]]])\n",
        "y = np.reshape(x,-1)\n",
        "print(y)"
      ]
    },
    {
      "cell_type": "code",
      "execution_count": 98,
      "metadata": {
        "colab": {
          "base_uri": "https://localhost:8080/"
        },
        "id": "b1rmGYtgeZS4",
        "outputId": "fbab0254-8685-4106-f9f9-8ea2b20af9af"
      },
      "outputs": [
        {
          "name": "stdout",
          "output_type": "stream",
          "text": [
            "[ 3  7 11 15]\n",
            "[ 3  7 11 15]\n",
            "[-1 -1 -1 -1]\n",
            "[ 2 12 30 56]\n",
            "[0.5        0.75       0.83333333 0.875     ]\n",
            "[ 1  9 25 49]\n",
            "[  1  27 125 343]\n",
            "[1 3 5 7]\n",
            "[1 3 5 7]\n"
          ]
        }
      ],
      "source": [
        "x = np.array([1, 3, 5, 7])\n",
        "y = np.array([2, 4, 6, 8])\n",
        "print(x+y)\n",
        "res = np.add(x,y)\n",
        "print(res)\n",
        "res = np.subtract(x,y)\n",
        "print(res)\n",
        "res = np.multiply(x,y)\n",
        "print(res)\n",
        "res = np.divide(x,y)\n",
        "print(res)\n",
        "print(x**2)\n",
        "res = np.power(x,3)\n",
        "print(res)\n",
        "res = np.mod(x,y)\n",
        "print(res)\n",
        "print(x%y)\n",
        "\n"
      ]
    },
    {
      "cell_type": "code",
      "execution_count": 103,
      "metadata": {
        "colab": {
          "base_uri": "https://localhost:8080/"
        },
        "id": "JAjOkeEahMwI",
        "outputId": "975890bb-c7b4-45df-c856-6baa896b6f79"
      },
      "outputs": [
        {
          "name": "stdout",
          "output_type": "stream",
          "text": [
            "[[ 2  7 11]\n",
            " [14 12  3]\n",
            " [ 6  9 15]]\n",
            "[[ 2  7 11]\n",
            " [14 12  3]\n",
            " [ 6  9 15]]\n",
            "[[ 0 -1 -1]\n",
            " [ 0  6  1]\n",
            " [ 2  3  1]]\n",
            "[[ 1 12 30]\n",
            " [49 27  2]\n",
            " [ 8 18 56]]\n",
            "[[1.         0.75       0.83333333]\n",
            " [1.         3.         2.        ]\n",
            " [2.         2.         1.14285714]]\n",
            "[[ 1  9 25]\n",
            " [49 81  4]\n",
            " [16 36 64]]\n",
            "[[  1  27 125]\n",
            " [343 729   8]\n",
            " [ 64 216 512]]\n",
            "[[0 3 5]\n",
            " [0 0 0]\n",
            " [0 0 1]]\n",
            "[[0 3 5]\n",
            " [0 0 0]\n",
            " [0 0 1]]\n",
            "[[1 7 2]\n",
            " [4 3 3]\n",
            " [6 1 7]]\n",
            "[[1.         1.73205081 2.23606798]\n",
            " [2.64575131 3.         1.41421356]\n",
            " [2.         2.44948974 2.82842712]]\n"
          ]
        }
      ],
      "source": [
        "x = np.array([[1, 3, 5],[7, 9, 2],[4, 6, 8]])\n",
        "y = np.array([[1, 4, 6],[7, 3, 1],[2, 3, 7]])\n",
        "print(x+y)\n",
        "res = np.add(x,y)\n",
        "print(res)\n",
        "res = np.subtract(x,y)\n",
        "print(res)\n",
        "res = np.multiply(x,y)\n",
        "print(res)\n",
        "res = np.divide(x,y)\n",
        "print(res)\n",
        "print(x**2)\n",
        "res = np.power(x,3)\n",
        "print(res)\n",
        "res = np.mod(x,y)\n",
        "print(res)\n",
        "\n",
        "print(x%y)\n",
        "res = np.transpose(y)\n",
        "print(res)\n",
        "\n",
        "print(np.sqrt(x))\n"
      ]
    },
    {
      "cell_type": "code",
      "execution_count": 108,
      "metadata": {
        "colab": {
          "base_uri": "https://localhost:8080/"
        },
        "id": "MVAgIMM0intk",
        "outputId": "f79dc468-61cc-4ff4-f7f9-1e6e8499ac1b"
      },
      "outputs": [
        {
          "name": "stdout",
          "output_type": "stream",
          "text": [
            "4.625\n",
            "4.5\n",
            "1\n",
            "8\n"
          ]
        }
      ],
      "source": [
        "x = np.array([1,2,8,4,5,2,7,8])\n",
        "print(np.mean(x))\n",
        "print(np.median(x))\n",
        "print(np.min(x))\n",
        "print(np.max(x))"
      ]
    },
    {
      "cell_type": "code",
      "execution_count": 111,
      "metadata": {
        "colab": {
          "base_uri": "https://localhost:8080/"
        },
        "id": "gbKb81tdkLeN",
        "outputId": "b98324ec-863a-4bfa-efb6-430b3171dbdd"
      },
      "outputs": [
        {
          "name": "stdout",
          "output_type": "stream",
          "text": [
            "[ True  True  True  True  True  True False  True]\n",
            "[ True  True  True  True  True  True  True  True]\n",
            "[False False False False False False False False]\n"
          ]
        }
      ],
      "source": [
        "x = np.array([1,2,8,4,5,2,7,8])\n",
        "y = np.array([3,4,1,7,5,1,0,6])\n",
        "print(np.logical_and(x,y))\n",
        "print(np.logical_or(x,y))\n",
        "print(np.logical_not(x))\n"
      ]
    },
    {
      "cell_type": "code",
      "execution_count": null,
      "metadata": {
        "id": "07irmMmqnGC7"
      },
      "outputs": [],
      "source": []
    },
    {
      "cell_type": "code",
      "execution_count": 119,
      "metadata": {
        "colab": {
          "base_uri": "https://localhost:8080/"
        },
        "id": "nPms_XtjmVN2",
        "outputId": "48ba6468-5b81-4def-8717-0914fbb872fd"
      },
      "outputs": [
        {
          "name": "stdout",
          "output_type": "stream",
          "text": [
            "[ 0.65028784 -0.13235175 -0.80115264  0.85090352 -0.30481062 -0.98803162]\n",
            "[-0.75968791  0.99120281 -0.59846007  0.52532199 -0.95241298  0.15425145]\n",
            "[-0.8559934  -0.13352641  1.33869021  1.61977519  0.32004039 -6.4053312 ]\n",
            "[nan nan nan nan nan nan]\n",
            "[nan nan nan nan nan nan]\n",
            "[1.50422816 1.53081764 1.56524083 1.54857776 1.5541312  1.53747533]\n",
            "[  859.4366927   1432.39448783 10313.24031235  2578.31007809\n",
            "  3437.74677078  1718.87338539]\n",
            "[0.26179939 0.43633231 3.14159265 0.78539816 1.04719755 0.52359878]\n"
          ]
        },
        {
          "name": "stderr",
          "output_type": "stream",
          "text": [
            "/tmp/ipython-input-2072014749.py:5: RuntimeWarning: invalid value encountered in arcsin\n",
            "  print(np.arcsin(x))\n",
            "/tmp/ipython-input-2072014749.py:6: RuntimeWarning: invalid value encountered in arccos\n",
            "  print(np.arccos(x))\n"
          ]
        }
      ],
      "source": [
        "x = np.array([15,25,180,45,60,30])\n",
        "print(np.sin(x))\n",
        "print(np.cos(x))\n",
        "print(np.tan(x))\n",
        "print(np.arcsin(x))\n",
        "print(np.arccos(x))\n",
        "print(np.arctan(x))\n",
        "print(np.degrees(x))\n",
        "print(np.radians(x))\n",
        "\n",
        "\n"
      ]
    },
    {
      "cell_type": "code",
      "execution_count": 122,
      "metadata": {
        "colab": {
          "base_uri": "https://localhost:8080/"
        },
        "id": "W6WEIykeoEez",
        "outputId": "21b8773d-66db-44e5-d710-4d6f63716372"
      },
      "outputs": [
        {
          "name": "stdout",
          "output_type": "stream",
          "text": [
            "[ 15.12  25.98 180.67  45.75  60.1   30.46]\n",
            "[ 15.  25. 180.  45.  60.  30.]\n",
            "[ 16.  26. 181.  46.  61.  31.]\n"
          ]
        }
      ],
      "source": [
        "x = np.array([15.123,25.98454,180.67,45.754,60.097,30.456])\n",
        "print(np.round(x,2))\n",
        "print(np.floor(x))\n",
        "print(np.ceil(x))\n",
        "# print(x)"
      ]
    },
    {
      "cell_type": "code",
      "execution_count": 123,
      "metadata": {
        "colab": {
          "base_uri": "https://localhost:8080/"
        },
        "id": "msCZwzGkwAOI",
        "outputId": "848d821c-f43a-43e6-ef5c-7714fa33d17d"
      },
      "outputs": [
        {
          "name": "stdout",
          "output_type": "stream",
          "text": [
            "18.84955592153876\n"
          ]
        }
      ],
      "source": [
        "area = 2 *np.pi*3\n",
        "print(area)"
      ]
    },
    {
      "cell_type": "code",
      "execution_count": 124,
      "metadata": {
        "colab": {
          "base_uri": "https://localhost:8080/"
        },
        "id": "28R12UKTwLux",
        "outputId": "d57a88cc-5866-4326-b296-0c78b9a572ed"
      },
      "outputs": [
        {
          "name": "stdout",
          "output_type": "stream",
          "text": [
            "9744803446.248903\n"
          ]
        }
      ],
      "source": [
        "print(np.exp(23))"
      ]
    },
    {
      "cell_type": "code",
      "execution_count": 126,
      "metadata": {
        "colab": {
          "base_uri": "https://localhost:8080/"
        },
        "id": "lc0N79VcwRRU",
        "outputId": "b3f0e937-9bee-48ba-be38-07c8e6b77d19"
      },
      "outputs": [
        {
          "name": "stdout",
          "output_type": "stream",
          "text": [
            "[4. 6. 5.]\n",
            "[3. 6. 6.]\n"
          ]
        }
      ],
      "source": [
        "x = np.array([[1, 3, 5],[7, 9, 2],[4, 6, 8]])\n",
        "y = np.mean(x,axis = 0)\n",
        "z = np.mean(x,axis = 1)\n",
        "print(y)\n",
        "print(z)"
      ]
    },
    {
      "cell_type": "code",
      "execution_count": 128,
      "metadata": {
        "colab": {
          "base_uri": "https://localhost:8080/"
        },
        "id": "xrVx8VvyCOV_",
        "outputId": "d3fba12e-5ff4-44a6-b65d-aadb564e93b9"
      },
      "outputs": [
        {
          "name": "stdout",
          "output_type": "stream",
          "text": [
            "[4. 6. 5.]\n",
            "[3. 7. 6.]\n"
          ]
        }
      ],
      "source": [
        "x = np.array([[1, 3, 5],[7, 9, 2],[4, 6, 8]])\n",
        "y = np.median(x,axis = 0)\n",
        "z = np.median(x,axis = 1)\n",
        "print(y)\n",
        "print(z)"
      ]
    },
    {
      "cell_type": "code",
      "execution_count": 129,
      "metadata": {
        "colab": {
          "base_uri": "https://localhost:8080/"
        },
        "id": "q9tBR-FzCugI",
        "outputId": "0f4f6814-c89a-4e5e-b4eb-bc7f7f500cbb"
      },
      "outputs": [
        {
          "name": "stdout",
          "output_type": "stream",
          "text": [
            "3.0\n"
          ]
        }
      ],
      "source": [
        "res = np.percentile(x,25)         ## 25% value is less than or equal to 3.0\n",
        "\n",
        "print(res)"
      ]
    },
    {
      "cell_type": "code",
      "execution_count": 130,
      "metadata": {
        "colab": {
          "base_uri": "https://localhost:8080/"
        },
        "id": "4HR3eQsPDB5S",
        "outputId": "6b6215a9-64a6-4039-e846-2f34f4da2cad"
      },
      "outputs": [
        {
          "name": "stdout",
          "output_type": "stream",
          "text": [
            "7.0\n"
          ]
        }
      ],
      "source": [
        "res = np.percentile(x,75)\n",
        "print(res)"
      ]
    },
    {
      "cell_type": "code",
      "execution_count": 2,
      "metadata": {
        "id": "t8ccG8AzmobW"
      },
      "outputs": [],
      "source": [
        "import numpy as np\n"
      ]
    },
    {
      "cell_type": "code",
      "execution_count": 3,
      "metadata": {
        "colab": {
          "base_uri": "https://localhost:8080/"
        },
        "id": "6ePA4RbJmUgT",
        "outputId": "fa404cc3-9d60-4152-b950-04bbee42cbb2"
      },
      "outputs": [
        {
          "name": "stdout",
          "output_type": "stream",
          "text": [
            "['hellopython' 'goodnight']\n"
          ]
        }
      ],
      "source": [
        "x = np.array([\"hello\",\"good\"])\n",
        "y = np.array([\"python\",\"night\"])\n",
        "z = np.char.add(x,y)\n",
        "print(z)"
      ]
    },
    {
      "cell_type": "code",
      "execution_count": 5,
      "metadata": {
        "colab": {
          "base_uri": "https://localhost:8080/"
        },
        "id": "ndBw83Aqmu6X",
        "outputId": "2edf079b-9e3f-441f-d76c-e1c9998025ee"
      },
      "outputs": [
        {
          "name": "stdout",
          "output_type": "stream",
          "text": [
            "[['hellohello' 'goodgood']\n",
            " ['pythonpython' 'nightnight']]\n"
          ]
        }
      ],
      "source": [
        "x = np.array([\"hello\",\"good\"])\n",
        "print(np.char.multiply((x,y),2))"
      ]
    },
    {
      "cell_type": "code",
      "execution_count": 7,
      "metadata": {
        "colab": {
          "base_uri": "https://localhost:8080/"
        },
        "id": "cH34UT4ZnA66",
        "outputId": "1fd8951f-1258-45d4-d6e0-9fb563dd8ba9"
      },
      "outputs": [
        {
          "name": "stdout",
          "output_type": "stream",
          "text": [
            "['Hello' 'Good']\n"
          ]
        }
      ],
      "source": [
        "x = np.array([\"hello\",\"good\"])\n",
        "print(np.char.capitalize(x))"
      ]
    },
    {
      "cell_type": "code",
      "execution_count": 8,
      "metadata": {
        "colab": {
          "base_uri": "https://localhost:8080/"
        },
        "id": "mqWVhb1FnRzf",
        "outputId": "08b7bf55-10cf-4264-86eb-f94aa64109fc"
      },
      "outputs": [
        {
          "name": "stdout",
          "output_type": "stream",
          "text": [
            "['hello' 'good']\n"
          ]
        }
      ],
      "source": [
        "x = np.array([\"hello\",\"good\"])\n",
        "print(np.char.lower(x))"
      ]
    },
    {
      "cell_type": "code",
      "execution_count": 9,
      "metadata": {
        "colab": {
          "base_uri": "https://localhost:8080/"
        },
        "id": "hrGGt6UcnYje",
        "outputId": "1b162fe8-b0c3-499d-a403-50a8ac19e5ff"
      },
      "outputs": [
        {
          "name": "stdout",
          "output_type": "stream",
          "text": [
            "['HELLO' 'GOOD']\n"
          ]
        }
      ],
      "source": [
        "x = np.array([\"hello\",\"good\"])\n",
        "print(np.char.upper(x))"
      ]
    },
    {
      "cell_type": "code",
      "execution_count": 11,
      "metadata": {
        "colab": {
          "base_uri": "https://localhost:8080/"
        },
        "id": "l7ca5pINncUS",
        "outputId": "0a120dc5-fbd8-4bc2-a8ee-6d1c88ffb6fb"
      },
      "outputs": [
        {
          "name": "stdout",
          "output_type": "stream",
          "text": [
            "['h-e-l-l-o' 'g-o-o-d' 'j-e-e-n']\n"
          ]
        }
      ],
      "source": [
        "x = np.array([\"hello\",\"good\",\"jeen\"])\n",
        "print(np.char.join(\"-\",x))"
      ]
    },
    {
      "cell_type": "code",
      "execution_count": 13,
      "metadata": {
        "colab": {
          "base_uri": "https://localhost:8080/"
        },
        "id": "MRc2_ag6nq85",
        "outputId": "7e97623c-da2a-4fb7-8f65-081c05553f14"
      },
      "outputs": [
        {
          "name": "stdout",
          "output_type": "stream",
          "text": [
            "[ True False False]\n"
          ]
        }
      ],
      "source": [
        "y = np.array([\"hello\",\"Good\",\"jaan\"])\n",
        "print(np.char.equal(x,y))"
      ]
    },
    {
      "cell_type": "code",
      "execution_count": 15,
      "metadata": {
        "colab": {
          "base_uri": "https://localhost:8080/"
        },
        "id": "RyInGFF9oJyK",
        "outputId": "05a29a8f-10d0-48b4-9489-c60770ad0b54"
      },
      "outputs": [
        {
          "name": "stdout",
          "output_type": "stream",
          "text": [
            "[1 2 4]\n",
            "[[6]\n",
            " [7]\n",
            " [8]]\n",
            "[[ 7  8 10]\n",
            " [ 8  9 11]\n",
            " [ 9 10 12]]\n"
          ]
        }
      ],
      "source": [
        "x = np.array([1,2,4])\n",
        "print(x)\n",
        "y = np.array([[6],[7],[8]])\n",
        "print(y)\n",
        "z = np.add(x,y)\n",
        "print(z)"
      ]
    },
    {
      "cell_type": "code",
      "execution_count": 17,
      "metadata": {
        "colab": {
          "base_uri": "https://localhost:8080/"
        },
        "id": "bb7AgRNlLK3b",
        "outputId": "52049552-7a0a-4ab9-f0d8-359ae8983558"
      },
      "outputs": [
        {
          "name": "stdout",
          "output_type": "stream",
          "text": [
            "[5 6 8]\n"
          ]
        }
      ],
      "source": [
        "x = np.array([1,2,4])\n",
        "p = 4\n",
        "res = x + 4\n",
        "print(res)\n"
      ]
    },
    {
      "cell_type": "code",
      "execution_count": 18,
      "metadata": {
        "colab": {
          "base_uri": "https://localhost:8080/"
        },
        "id": "2IaLHcRMb9Ph",
        "outputId": "bb73388e-c5cb-455c-9218-e1378ffe7d84"
      },
      "outputs": [
        {
          "name": "stdout",
          "output_type": "stream",
          "text": [
            "[[11]\n",
            " [12]\n",
            " [13]]\n"
          ]
        }
      ],
      "source": [
        "y = np.array([[6],[7],[8]])\n",
        "z = 5\n",
        "print(y + z)"
      ]
    },
    {
      "cell_type": "code",
      "execution_count": 19,
      "metadata": {
        "colab": {
          "base_uri": "https://localhost:8080/"
        },
        "id": "-A6gPpvUddPM",
        "outputId": "911645a5-a359-4326-c5af-dcadcd7e9b0c"
      },
      "outputs": [
        {
          "name": "stdout",
          "output_type": "stream",
          "text": [
            "[[32 28 44]\n",
            " [74 61 65]\n",
            " [62 58 86]]\n"
          ]
        }
      ],
      "source": [
        "x = np.array([[1, 3, 5],[7, 9, 2],[4, 6, 8]])\n",
        "y = np.array([[1, 4, 6],[7, 3, 1],[2, 3, 7]])\n",
        "matrix = np.dot(x,y)\n",
        "print(matrix)"
      ]
    },
    {
      "cell_type": "code",
      "execution_count": 21,
      "metadata": {
        "colab": {
          "base_uri": "https://localhost:8080/",
          "height": 180
        },
        "id": "xxD4I4UPeEnt",
        "outputId": "771b4c88-7a49-410c-e45a-f7245ab8603d"
      },
      "outputs": [
        {
          "ename": "ValueError",
          "evalue": "shapes (3,3) and (2,3) not aligned: 3 (dim 1) != 2 (dim 0)",
          "output_type": "error",
          "traceback": [
            "\u001b[0;31m---------------------------------------------------------------------------\u001b[0m",
            "\u001b[0;31mValueError\u001b[0m                                Traceback (most recent call last)",
            "\u001b[0;32m/tmp/ipython-input-1281930483.py\u001b[0m in \u001b[0;36m<cell line: 0>\u001b[0;34m()\u001b[0m\n\u001b[1;32m      1\u001b[0m \u001b[0mx\u001b[0m \u001b[0;34m=\u001b[0m \u001b[0mnp\u001b[0m\u001b[0;34m.\u001b[0m\u001b[0marray\u001b[0m\u001b[0;34m(\u001b[0m\u001b[0;34m[\u001b[0m\u001b[0;34m[\u001b[0m\u001b[0;36m1\u001b[0m\u001b[0;34m,\u001b[0m \u001b[0;36m3\u001b[0m\u001b[0;34m,\u001b[0m \u001b[0;36m5\u001b[0m\u001b[0;34m]\u001b[0m\u001b[0;34m,\u001b[0m\u001b[0;34m[\u001b[0m\u001b[0;36m7\u001b[0m\u001b[0;34m,\u001b[0m \u001b[0;36m9\u001b[0m\u001b[0;34m,\u001b[0m \u001b[0;36m2\u001b[0m\u001b[0;34m]\u001b[0m\u001b[0;34m,\u001b[0m\u001b[0;34m[\u001b[0m\u001b[0;36m4\u001b[0m\u001b[0;34m,\u001b[0m \u001b[0;36m6\u001b[0m\u001b[0;34m,\u001b[0m \u001b[0;36m8\u001b[0m\u001b[0;34m]\u001b[0m\u001b[0;34m]\u001b[0m\u001b[0;34m)\u001b[0m\u001b[0;34m\u001b[0m\u001b[0;34m\u001b[0m\u001b[0m\n\u001b[1;32m      2\u001b[0m \u001b[0my\u001b[0m \u001b[0;34m=\u001b[0m \u001b[0mnp\u001b[0m\u001b[0;34m.\u001b[0m\u001b[0marray\u001b[0m\u001b[0;34m(\u001b[0m\u001b[0;34m[\u001b[0m\u001b[0;34m[\u001b[0m\u001b[0;36m1\u001b[0m\u001b[0;34m,\u001b[0m\u001b[0;36m6\u001b[0m\u001b[0;34m,\u001b[0m\u001b[0;36m8\u001b[0m\u001b[0;34m]\u001b[0m\u001b[0;34m,\u001b[0m\u001b[0;34m[\u001b[0m\u001b[0;36m5\u001b[0m\u001b[0;34m,\u001b[0m\u001b[0;36m3\u001b[0m\u001b[0;34m,\u001b[0m\u001b[0;36m9\u001b[0m\u001b[0;34m]\u001b[0m\u001b[0;34m]\u001b[0m\u001b[0;34m)\u001b[0m\u001b[0;34m\u001b[0m\u001b[0;34m\u001b[0m\u001b[0m\n\u001b[0;32m----> 3\u001b[0;31m \u001b[0mprint\u001b[0m\u001b[0;34m(\u001b[0m\u001b[0mnp\u001b[0m\u001b[0;34m.\u001b[0m\u001b[0mdot\u001b[0m\u001b[0;34m(\u001b[0m\u001b[0mx\u001b[0m\u001b[0;34m,\u001b[0m\u001b[0my\u001b[0m\u001b[0;34m)\u001b[0m\u001b[0;34m)\u001b[0m\u001b[0;34m\u001b[0m\u001b[0;34m\u001b[0m\u001b[0m\n\u001b[0m",
            "\u001b[0;31mValueError\u001b[0m: shapes (3,3) and (2,3) not aligned: 3 (dim 1) != 2 (dim 0)"
          ]
        }
      ],
      "source": [
        "x = np.array([[1, 3, 5],[7, 9, 2],[4, 6, 8]])\n",
        "y = np.array([[1,6,8],[5,3,9]])\n",
        "print(np.dot(x,y))               ## for matrix myltiplication dim should be equal"
      ]
    },
    {
      "cell_type": "code",
      "execution_count": 22,
      "metadata": {
        "colab": {
          "base_uri": "https://localhost:8080/"
        },
        "id": "QZhuq8sLfJR7",
        "outputId": "65c9263f-0aa2-47d4-9c90-fdc65a9fcaa6"
      },
      "outputs": [
        {
          "name": "stdout",
          "output_type": "stream",
          "text": [
            "[[1 7 4]\n",
            " [3 9 6]\n",
            " [5 2 8]]\n"
          ]
        }
      ],
      "source": [
        "x = np.array([[1, 3, 5],[7, 9, 2],[4, 6, 8]])\n",
        "print(np.transpose(x))"
      ]
    },
    {
      "cell_type": "code",
      "execution_count": 23,
      "metadata": {
        "colab": {
          "base_uri": "https://localhost:8080/"
        },
        "id": "dJU7evG7fUPV",
        "outputId": "ad7dc91a-1fc7-45cb-8d08-03e764d8b075"
      },
      "outputs": [
        {
          "name": "stdout",
          "output_type": "stream",
          "text": [
            "[[-1.11111111 -0.11111111  0.72222222]\n",
            " [ 0.88888889  0.22222222 -0.61111111]\n",
            " [-0.11111111 -0.11111111  0.22222222]]\n"
          ]
        }
      ],
      "source": [
        "x = np.array([[1, 3, 5],[7, 9, 2],[4, 6, 8]])\n",
        "print(np.linalg.inv(x))"
      ]
    },
    {
      "cell_type": "code",
      "execution_count": 24,
      "metadata": {
        "colab": {
          "base_uri": "https://localhost:8080/"
        },
        "id": "Z0IfBniffgA5",
        "outputId": "d85d7691-db6f-430c-82dd-7a1f3574489b"
      },
      "outputs": [
        {
          "name": "stdout",
          "output_type": "stream",
          "text": [
            "-54.00000000000001\n"
          ]
        }
      ],
      "source": [
        "x = np.array([[1, 3, 5],[7, 9, 2],[4, 6, 8]])\n",
        "print(np.linalg.det(x))"
      ]
    },
    {
      "cell_type": "code",
      "execution_count": 25,
      "metadata": {
        "colab": {
          "base_uri": "https://localhost:8080/",
          "height": 311
        },
        "id": "hPbj1eRKfskI",
        "outputId": "7e68a049-5203-4d7c-a9d1-ec818ce33d66"
      },
      "outputs": [
        {
          "ename": "LinAlgError",
          "evalue": "1-dimensional array given. Array must be at least two-dimensional",
          "output_type": "error",
          "traceback": [
            "\u001b[0;31m---------------------------------------------------------------------------\u001b[0m",
            "\u001b[0;31mLinAlgError\u001b[0m                               Traceback (most recent call last)",
            "\u001b[0;32m/tmp/ipython-input-3945204499.py\u001b[0m in \u001b[0;36m<cell line: 0>\u001b[0;34m()\u001b[0m\n\u001b[1;32m      1\u001b[0m \u001b[0mx\u001b[0m \u001b[0;34m=\u001b[0m \u001b[0mnp\u001b[0m\u001b[0;34m.\u001b[0m\u001b[0marray\u001b[0m\u001b[0;34m(\u001b[0m\u001b[0;34m[\u001b[0m\u001b[0;36m1\u001b[0m\u001b[0;34m,\u001b[0m\u001b[0;36m2\u001b[0m\u001b[0;34m,\u001b[0m\u001b[0;36m3\u001b[0m\u001b[0;34m]\u001b[0m\u001b[0;34m)\u001b[0m\u001b[0;34m\u001b[0m\u001b[0;34m\u001b[0m\u001b[0m\n\u001b[0;32m----> 2\u001b[0;31m \u001b[0mprint\u001b[0m\u001b[0;34m(\u001b[0m\u001b[0mnp\u001b[0m\u001b[0;34m.\u001b[0m\u001b[0mlinalg\u001b[0m\u001b[0;34m.\u001b[0m\u001b[0mdet\u001b[0m\u001b[0;34m(\u001b[0m\u001b[0mx\u001b[0m\u001b[0;34m)\u001b[0m\u001b[0;34m)\u001b[0m\u001b[0;34m\u001b[0m\u001b[0;34m\u001b[0m\u001b[0m\n\u001b[0m",
            "\u001b[0;32m/usr/local/lib/python3.12/dist-packages/numpy/linalg/_linalg.py\u001b[0m in \u001b[0;36mdet\u001b[0;34m(a)\u001b[0m\n\u001b[1;32m   2365\u001b[0m     \"\"\"\n\u001b[1;32m   2366\u001b[0m     \u001b[0ma\u001b[0m \u001b[0;34m=\u001b[0m \u001b[0masarray\u001b[0m\u001b[0;34m(\u001b[0m\u001b[0ma\u001b[0m\u001b[0;34m)\u001b[0m\u001b[0;34m\u001b[0m\u001b[0;34m\u001b[0m\u001b[0m\n\u001b[0;32m-> 2367\u001b[0;31m     \u001b[0m_assert_stacked_2d\u001b[0m\u001b[0;34m(\u001b[0m\u001b[0ma\u001b[0m\u001b[0;34m)\u001b[0m\u001b[0;34m\u001b[0m\u001b[0;34m\u001b[0m\u001b[0m\n\u001b[0m\u001b[1;32m   2368\u001b[0m     \u001b[0m_assert_stacked_square\u001b[0m\u001b[0;34m(\u001b[0m\u001b[0ma\u001b[0m\u001b[0;34m)\u001b[0m\u001b[0;34m\u001b[0m\u001b[0;34m\u001b[0m\u001b[0m\n\u001b[1;32m   2369\u001b[0m     \u001b[0mt\u001b[0m\u001b[0;34m,\u001b[0m \u001b[0mresult_t\u001b[0m \u001b[0;34m=\u001b[0m \u001b[0m_commonType\u001b[0m\u001b[0;34m(\u001b[0m\u001b[0ma\u001b[0m\u001b[0;34m)\u001b[0m\u001b[0;34m\u001b[0m\u001b[0;34m\u001b[0m\u001b[0m\n",
            "\u001b[0;32m/usr/local/lib/python3.12/dist-packages/numpy/linalg/_linalg.py\u001b[0m in \u001b[0;36m_assert_stacked_2d\u001b[0;34m(*arrays)\u001b[0m\n\u001b[1;32m    193\u001b[0m     \u001b[0;32mfor\u001b[0m \u001b[0ma\u001b[0m \u001b[0;32min\u001b[0m \u001b[0marrays\u001b[0m\u001b[0;34m:\u001b[0m\u001b[0;34m\u001b[0m\u001b[0;34m\u001b[0m\u001b[0m\n\u001b[1;32m    194\u001b[0m         \u001b[0;32mif\u001b[0m \u001b[0ma\u001b[0m\u001b[0;34m.\u001b[0m\u001b[0mndim\u001b[0m \u001b[0;34m<\u001b[0m \u001b[0;36m2\u001b[0m\u001b[0;34m:\u001b[0m\u001b[0;34m\u001b[0m\u001b[0;34m\u001b[0m\u001b[0m\n\u001b[0;32m--> 195\u001b[0;31m             raise LinAlgError('%d-dimensional array given. Array must be '\n\u001b[0m\u001b[1;32m    196\u001b[0m                     'at least two-dimensional' % a.ndim)\n\u001b[1;32m    197\u001b[0m \u001b[0;34m\u001b[0m\u001b[0m\n",
            "\u001b[0;31mLinAlgError\u001b[0m: 1-dimensional array given. Array must be at least two-dimensional"
          ]
        }
      ],
      "source": [
        "x = np.array([1,2,3])\n",
        "print(np.linalg.det(x))"
      ]
    },
    {
      "cell_type": "markdown",
      "metadata": {
        "id": "WrabnBNykJDB"
      },
      "source": [
        "flatten = copy we can't change into original array\n",
        "\n",
        "reshape = view ,due to this we change the original array"
      ]
    },
    {
      "cell_type": "code",
      "execution_count": 28,
      "metadata": {
        "colab": {
          "base_uri": "https://localhost:8080/"
        },
        "id": "phS2-u_lgAeD",
        "outputId": "5a65b99c-9153-4217-bcd5-6cd2b33377d5"
      },
      "outputs": [
        {
          "name": "stdout",
          "output_type": "stream",
          "text": [
            "[1 3 5 7 9 2 4 6 8]\n",
            "[1 3 5 7 9 2 4 6 8]\n"
          ]
        }
      ],
      "source": [
        "x = np.array([[1, 3, 5],[7, 9, 2],[4, 6, 8]])\n",
        "print(x.flatten())\n",
        "print(np.reshape(x,-1))"
      ]
    },
    {
      "cell_type": "code",
      "execution_count": 30,
      "metadata": {
        "colab": {
          "base_uri": "https://localhost:8080/"
        },
        "id": "rBoisOt4kcVX",
        "outputId": "d61de960-0198-4dca-dfe4-253231fb8a8c"
      },
      "outputs": [
        {
          "name": "stdout",
          "output_type": "stream",
          "text": [
            "[-7  0  1  2  3  4  5  6  7  8  9 13 21]\n"
          ]
        }
      ],
      "source": [
        "x = np.array([[1, 3, 5],[7, 9, 2],[4, 6, 8]])\n",
        "y = np.array([[3, 2, 8],[-7, 6, 0],[8, 21, 13]])\n",
        "print(np.union1d(x,y))"
      ]
    },
    {
      "cell_type": "code",
      "execution_count": 31,
      "metadata": {
        "colab": {
          "base_uri": "https://localhost:8080/"
        },
        "id": "3Uz1u0j3lQsA",
        "outputId": "1300ff95-a455-41ed-e050-ac646efcd80d"
      },
      "outputs": [
        {
          "name": "stdout",
          "output_type": "stream",
          "text": [
            "[2 3 6 8]\n"
          ]
        }
      ],
      "source": [
        "x = np.array([[1, 3, 5],[7, 9, 2],[4, 6, 8]])\n",
        "y = np.array([[3, 2, 8],[-7, 6, 0],[8, 21, 13]])\n",
        "print(np.intersect1d(x,y))"
      ]
    },
    {
      "cell_type": "code",
      "execution_count": 34,
      "metadata": {
        "colab": {
          "base_uri": "https://localhost:8080/"
        },
        "id": "REY3FTD1l4In",
        "outputId": "d644a3fc-f36d-4c58-d3f3-ddfa36ea31c1"
      },
      "outputs": [
        {
          "name": "stdout",
          "output_type": "stream",
          "text": [
            "[1 4 5 7 9]\n"
          ]
        }
      ],
      "source": [
        "A = np.array([1, 3, 5])\n",
        "B = np.array([0, 2, 3])\n",
        "print(np.setdiff1d(x,y))\n"
      ]
    },
    {
      "cell_type": "code",
      "execution_count": 33,
      "metadata": {
        "colab": {
          "base_uri": "https://localhost:8080/"
        },
        "id": "yyT1wionlY9Q",
        "outputId": "3e1e25cd-48c6-4200-93a7-83bf7e729b4c"
      },
      "outputs": [
        {
          "name": "stdout",
          "output_type": "stream",
          "text": [
            "[1 4 5 7 9]\n"
          ]
        }
      ],
      "source": [
        "x = np.array([[1, 3, 5],[7, 9, 2],[4, 6, 8]])\n",
        "y = np.array([[3, 2, 8],[-7, 6, 0],[8, 21, 13]])\n",
        "print(np.setdiff1d(x,y))"
      ]
    },
    {
      "cell_type": "code",
      "execution_count": 35,
      "metadata": {
        "colab": {
          "base_uri": "https://localhost:8080/"
        },
        "id": "kivoTOvxl3HV",
        "outputId": "27c205bd-416e-4759-f673-de37bcbccac8"
      },
      "outputs": [
        {
          "name": "stdout",
          "output_type": "stream",
          "text": [
            "[1 2 3 4 5 6 7 8]\n"
          ]
        }
      ],
      "source": [
        "x = np.array([[1, 3, 5],[7, 2, 2],[4, 6, 8]])\n",
        "print(np.unique(x))"
      ]
    },
    {
      "cell_type": "code",
      "execution_count": 38,
      "metadata": {
        "colab": {
          "base_uri": "https://localhost:8080/"
        },
        "id": "6OUgw5GNmRnR",
        "outputId": "1cf5f19e-97ed-4f1e-c77d-9bbecf5878fe"
      },
      "outputs": [
        {
          "name": "stdout",
          "output_type": "stream",
          "text": [
            "[0 1 2 5]\n"
          ]
        }
      ],
      "source": [
        "x = np.array([1, 3, 5])\n",
        "y = np.array([0, 2, 3])\n",
        "print(np.setxor1d(x,y))"
      ]
    },
    {
      "cell_type": "markdown",
      "metadata": {
        "id": "ivu_Qe-8rI6a"
      },
      "source": [
        " NumPy Vectorization Vs Python for Loop"
      ]
    },
    {
      "cell_type": "code",
      "execution_count": 39,
      "metadata": {
        "colab": {
          "base_uri": "https://localhost:8080/"
        },
        "id": "Ei-TmeOLrNZC",
        "outputId": "5aea1fc0-6798-4422-fd58-ae1212fed777"
      },
      "outputs": [
        {
          "name": "stdout",
          "output_type": "stream",
          "text": [
            "0.00030159950256347656\n"
          ]
        }
      ],
      "source": [
        "import time\n",
        "start = time.time()\n",
        "x = np.array([1,2,3,4,5,6,7,8,9,10])\n",
        "for i in range(len(x)):\n",
        "  x[i] += 10\n",
        "end = time.time()           ## takes more time than numpy\n",
        "print(end - start)"
      ]
    },
    {
      "cell_type": "code",
      "execution_count": 40,
      "metadata": {
        "colab": {
          "base_uri": "https://localhost:8080/"
        },
        "id": "DHColxfusrfl",
        "outputId": "5538da79-cdb1-4df8-80f2-44abe76c9eb8"
      },
      "outputs": [
        {
          "name": "stdout",
          "output_type": "stream",
          "text": [
            "0.0002741813659667969\n"
          ]
        }
      ],
      "source": [
        "import time\n",
        "start = time.time()\n",
        "x = np.array([1,2,3,4,5,6,7,8,9,10])\n",
        "res = x + 10\n",
        "end = time.time()\n",
        "print(end - start)"
      ]
    },
    {
      "cell_type": "code",
      "execution_count": 49,
      "metadata": {
        "colab": {
          "base_uri": "https://localhost:8080/"
        },
        "id": "lTO0mT2ts_yD",
        "outputId": "259b82d9-6d69-47f5-d93d-7ba5d0f30c1d"
      },
      "outputs": [
        {
          "name": "stdout",
          "output_type": "stream",
          "text": [
            "36\n"
          ]
        }
      ],
      "source": [
        "x = np.array([1,2,3,4,5,6,7,8,9,10])\n",
        "def find_square(y):\n",
        "  if y < 0:\n",
        "    return 0\n",
        "  else:\n",
        "    return y**2\n",
        "print(find_square(6))\n"
      ]
    },
    {
      "cell_type": "code",
      "execution_count": 51,
      "metadata": {
        "colab": {
          "base_uri": "https://localhost:8080/"
        },
        "id": "ZB6_fnmpuTVd",
        "outputId": "1d8728a1-d461-4b9d-d1f7-7b538ff5d33c"
      },
      "outputs": [
        {
          "name": "stdout",
          "output_type": "stream",
          "text": [
            "[  1   0   9  16  25  36  49  64  81 100]\n"
          ]
        }
      ],
      "source": [
        "x = np.array([1,-2,3,4,5,6,7,8,9,10])\n",
        "res = np.vectorize(find_square)\n",
        "final = res(x)\n",
        "print(final)"
      ]
    },
    {
      "cell_type": "markdown",
      "metadata": {
        "id": "z72BffTuu57j"
      },
      "source": [
        "masking"
      ]
    },
    {
      "cell_type": "code",
      "execution_count": 56,
      "metadata": {
        "colab": {
          "base_uri": "https://localhost:8080/"
        },
        "id": "wRwShfUSu4Xd",
        "outputId": "d6bc7e85-6e60-40b7-ec3c-8228572c3f3c"
      },
      "outputs": [
        {
          "name": "stdout",
          "output_type": "stream",
          "text": [
            "[ 5 10]\n"
          ]
        }
      ],
      "source": [
        "x = np.array([1,-2,3,4,5,6,7,8,9,10])\n",
        "mask =  x%5 ==0\n",
        "print(x[mask])\n"
      ]
    },
    {
      "cell_type": "code",
      "execution_count": 57,
      "metadata": {
        "colab": {
          "base_uri": "https://localhost:8080/"
        },
        "id": "U6N-GApavegN",
        "outputId": "29a2d93a-f3a0-4e80-9ce5-746a14a3f032"
      },
      "outputs": [
        {
          "name": "stdout",
          "output_type": "stream",
          "text": [
            "[ 1 -2  3  4  5  6  7  8  9 10]\n"
          ]
        }
      ],
      "source": [
        "x = np.array([1,-2,3,4,5,6,7,8,9,10])\n",
        "new = x.copy()\n",
        "print(new)"
      ]
    },
    {
      "cell_type": "code",
      "execution_count": 58,
      "metadata": {
        "colab": {
          "base_uri": "https://localhost:8080/"
        },
        "id": "OCK2F_qnv1uC",
        "outputId": "5ea204af-3b6f-449b-b740-659ff71702b4"
      },
      "outputs": [
        {
          "name": "stdout",
          "output_type": "stream",
          "text": [
            "[ 5  6  7  8  9 10]\n"
          ]
        }
      ],
      "source": [
        "x = np.array([1,-2,3,4,5,6,7,8,9,10])\n",
        "boolean_mask = x>4\n",
        "print(x[boolean_mask])"
      ]
    },
    {
      "cell_type": "markdown",
      "metadata": {
        "id": "-kWb4A6uwFlR"
      },
      "source": [
        "fancy inndex"
      ]
    },
    {
      "cell_type": "code",
      "execution_count": 62,
      "metadata": {
        "colab": {
          "base_uri": "https://localhost:8080/"
        },
        "id": "IAl82J38wICl",
        "outputId": "63e19c1a-9e5c-4e85-dc4f-c8e5467ea81b"
      },
      "outputs": [
        {
          "name": "stdout",
          "output_type": "stream",
          "text": [
            "[1 0 2 3 4 5 6 7 8 9]\n",
            "[9 8 7 6 5 4 3 2 0 1]\n"
          ]
        }
      ],
      "source": [
        "p = np.array([1,-2,3,4,5,6,7,8,9,10])\n",
        "print(np.argsort(p))\n",
        "print(np.argsort(-p))"
      ]
    },
    {
      "cell_type": "code",
      "execution_count": 63,
      "metadata": {
        "colab": {
          "base_uri": "https://localhost:8080/"
        },
        "id": "VdnUFpwV20-g",
        "outputId": "c33e3124-1791-4e76-f2a8-acfc54fef886"
      },
      "outputs": [
        {
          "name": "stdout",
          "output_type": "stream",
          "text": [
            "[ 1 -2 99 96  5 98  7 97  9 10]\n"
          ]
        }
      ],
      "source": [
        "p = np.array([1,-2,3,4,5,6,7,8,9,10])\n",
        "new = [99,98,97,96]\n",
        "indices = [2,5,7,3]\n",
        "p[indices] = new\n",
        "print(p)"
      ]
    },
    {
      "cell_type": "code",
      "execution_count": 65,
      "metadata": {
        "colab": {
          "base_uri": "https://localhost:8080/"
        },
        "id": "3kq8gBtQ3YZq",
        "outputId": "767177d6-f935-40ee-ad74-2700b8ebc8dd"
      },
      "outputs": [
        {
          "name": "stdout",
          "output_type": "stream",
          "text": [
            "3\n"
          ]
        }
      ],
      "source": [
        "p = np.random.randint(1,5)\n",
        "print(p)"
      ]
    },
    {
      "cell_type": "code",
      "execution_count": 67,
      "metadata": {
        "colab": {
          "base_uri": "https://localhost:8080/"
        },
        "id": "LEorc26L3oJN",
        "outputId": "765161f8-f8fc-499c-b86f-3e70de989905"
      },
      "outputs": [
        {
          "name": "stdout",
          "output_type": "stream",
          "text": [
            "[[0.36464499 0.62851739 0.41926627 0.95298235 0.20575491]]\n"
          ]
        }
      ],
      "source": [
        "p = np.random.rand(1,5)\n",
        "print(p)"
      ]
    },
    {
      "cell_type": "code",
      "execution_count": 69,
      "metadata": {
        "colab": {
          "base_uri": "https://localhost:8080/"
        },
        "id": "smaN5kAv32_M",
        "outputId": "09a550af-832e-4717-ed41-6f61e24ea812"
      },
      "outputs": [
        {
          "name": "stdout",
          "output_type": "stream",
          "text": [
            "10\n"
          ]
        }
      ],
      "source": [
        "p = np.array([1,-2,3,4,5,6,7,8,9,10])\n",
        "s = np.random.choice(p)\n",
        "print(s)"
      ]
    },
    {
      "cell_type": "code",
      "execution_count": 71,
      "metadata": {
        "colab": {
          "base_uri": "https://localhost:8080/"
        },
        "id": "EIcX59Gb-ZpE",
        "outputId": "17ff34fc-1baf-4257-fac3-67f296272fc7"
      },
      "outputs": [
        {
          "name": "stdout",
          "output_type": "stream",
          "text": [
            "3221\n",
            "3221\n"
          ]
        }
      ],
      "source": [
        "p = np.array([1,-2,3,4,5,6,7,8,9,10])\n",
        "q = np.array([9,5,6,88,90,77,17,80,19,101])\n",
        "print(np.dot(p,q))\n",
        "print(np.inner(p,q))\n"
      ]
    },
    {
      "cell_type": "code",
      "execution_count": 73,
      "metadata": {
        "colab": {
          "base_uri": "https://localhost:8080/"
        },
        "id": "N9O8g36f_noQ",
        "outputId": "1751292a-9717-4093-a566-2fbda9fc1545"
      },
      "outputs": [
        {
          "name": "stdout",
          "output_type": "stream",
          "text": [
            "[[14 30]\n",
            " [38 86]]\n"
          ]
        }
      ],
      "source": [
        "array1 = np.array([[1, 3],\n",
        "                   [5, 7]])\n",
        "array2 = np.array([[2, 4],\n",
        "                   [6, 8]])                   ## query\n",
        "print(np.inner(array1,array2))\n",
        "\n",
        "\n",
        "# 1*2+3*4        1*6+3*8\n",
        "# 5*2+7*4        5*6+7*8\n"
      ]
    },
    {
      "cell_type": "markdown",
      "metadata": {
        "id": "r7_ukd1_AS0q"
      },
      "source": [
        "1*2      1*4       1*6        \n",
        "3*2      3*4       3*6\n",
        "5*2      5*4       5*6   outer"
      ]
    },
    {
      "cell_type": "code",
      "execution_count": 74,
      "metadata": {
        "colab": {
          "base_uri": "https://localhost:8080/"
        },
        "id": "us2PTo-hAGtg",
        "outputId": "f27c612d-12ea-4167-8af3-f6906602ee74"
      },
      "outputs": [
        {
          "name": "stdout",
          "output_type": "stream",
          "text": [
            "3221\n",
            "[[   9    5    6   88   90   77   17   80   19  101]\n",
            " [ -18  -10  -12 -176 -180 -154  -34 -160  -38 -202]\n",
            " [  27   15   18  264  270  231   51  240   57  303]\n",
            " [  36   20   24  352  360  308   68  320   76  404]\n",
            " [  45   25   30  440  450  385   85  400   95  505]\n",
            " [  54   30   36  528  540  462  102  480  114  606]\n",
            " [  63   35   42  616  630  539  119  560  133  707]\n",
            " [  72   40   48  704  720  616  136  640  152  808]\n",
            " [  81   45   54  792  810  693  153  720  171  909]\n",
            " [  90   50   60  880  900  770  170  800  190 1010]]\n"
          ]
        }
      ],
      "source": [
        "p = np.array([1,-2,3,4,5,6,7,8,9,10])\n",
        "q = np.array([9,5,6,88,90,77,17,80,19,101])\n",
        "print(np.dot(p,q))\n",
        "print(np.outer(p,q))\n",
        "\n",
        "\n",
        "# 1*2      1*4       1*6\n",
        "# 3*2      3*4       3*6\n",
        "# 5*2      5*4       5*6\n"
      ]
    },
    {
      "cell_type": "code",
      "execution_count": 75,
      "metadata": {
        "colab": {
          "base_uri": "https://localhost:8080/"
        },
        "id": "Lf0-zypPAmCj",
        "outputId": "34079139-c2a6-433d-807e-17de0a38558a"
      },
      "outputs": [
        {
          "name": "stdout",
          "output_type": "stream",
          "text": [
            "-7.999999999999998\n"
          ]
        }
      ],
      "source": [
        "x = np.array([[1, 3],\n",
        "                  [5, 7]])\n",
        "print(np.linalg.det(x))"
      ]
    },
    {
      "cell_type": "markdown",
      "metadata": {
        "id": "xSSKj7YjA3bB"
      },
      "source": [
        "solve linear equation"
      ]
    },
    {
      "cell_type": "code",
      "execution_count": 76,
      "metadata": {
        "colab": {
          "base_uri": "https://localhost:8080/"
        },
        "id": "Q1M-w9UhA6S8",
        "outputId": "8dd95002-709d-4be6-d05d-c664b9614cab"
      },
      "outputs": [
        {
          "name": "stdout",
          "output_type": "stream",
          "text": [
            "[[ 0.5 -0.5]\n",
            " [ 0.5  1.5]]\n"
          ]
        }
      ],
      "source": [
        "array1 = np.array([[1, 3],\n",
        "                  [5, 7]])\n",
        "array2 = np.array([[2, 4],\n",
        "                  [6, 8]])\n",
        "print(np.linalg.solve(array1,array2))"
      ]
    },
    {
      "cell_type": "code",
      "execution_count": 2,
      "metadata": {},
      "outputs": [
        {
          "name": "stdout",
          "output_type": "stream",
          "text": [
            "[[-1.    0.5 ]\n",
            " [ 0.75 -0.25]]\n"
          ]
        }
      ],
      "source": [
        "import numpy as np\n",
        "\n",
        "array1 = np.array([[2, 4], \n",
        "                  [6, 8]])\n",
        "print(np.linalg.inv(array1))"
      ]
    },
    {
      "cell_type": "code",
      "execution_count": null,
      "metadata": {},
      "outputs": [
        {
          "name": "stdout",
          "output_type": "stream",
          "text": [
            "12\n"
          ]
        }
      ],
      "source": [
        "array1 = np.array([[6, 3, 5], \n",
        "                   [9, 2, 1], \n",
        "                   [7, 8, 4]])            ## add diagonal element\n",
        "print(np.trace(array1))"
      ]
    },
    {
      "cell_type": "code",
      "execution_count": 5,
      "metadata": {},
      "outputs": [
        {
          "name": "stdout",
          "output_type": "stream",
          "text": [
            "(array([0, 2, 0]), array([0, 2, 5, 8]))\n"
          ]
        },
        {
          "data": {
            "text/plain": [
              "(array([0., 2., 0.]),\n",
              " array([0., 2., 5., 8.]),\n",
              " <BarContainer object of 3 artists>)"
            ]
          },
          "execution_count": 5,
          "metadata": {},
          "output_type": "execute_result"
        },
        {
          "data": {
            "image/png": "[encoded data removed]",
            "text/plain": [
              "<Figure size 640x480 with 1 Axes>"
            ]
          },
          "metadata": {},
          "output_type": "display_data"
        }
      ],
      "source": [
        "import matplotlib.pyplot as plt\n",
        "x = np.array([2,32,4,33])\n",
        "bin = [0,2,5,8]\n",
        "graph = np.histogram(x,bin)\n",
        "print(graph)\n",
        "plt.hist(x,bin)"
      ]
    },
    {
      "cell_type": "code",
      "execution_count": 6,
      "metadata": {},
      "outputs": [
        {
          "name": "stdout",
          "output_type": "stream",
          "text": [
            "2025-08-28T10:35:00\n"
          ]
        }
      ],
      "source": [
        "print(np.datetime64('now'))"
      ]
    },
    {
      "cell_type": "code",
      "execution_count": 9,
      "metadata": {},
      "outputs": [
        {
          "name": "stdout",
          "output_type": "stream",
          "text": [
            "Year:  2025\n",
            "Month:  2025-08\n",
            "Day:  2025-08-28\n",
            "Hour:  2025-08-28T10\n",
            "Minute:  2025-08-28T10:30\n",
            "Second:  2025-08-28T10:30:15\n"
          ]
        }
      ],
      "source": [
        "import numpy as np\n",
        "\n",
        "# use datetime64() for different time units\n",
        "year = np.datetime64('2025', 'Y')\n",
        "month = np.datetime64('2025-08', 'M')\n",
        "day = np.datetime64('2025-08-28', 'D')\n",
        "hour = np.datetime64('2025-08-28T10', 'h')\n",
        "minute = np.datetime64('2025-08-28T10:30', 'm')\n",
        "second = np.datetime64('2025-08-28T10:30:15', 's')\n",
        "\n",
        "print(\"Year: \", year)\n",
        "print(\"Month: \", month)\n",
        "print(\"Day: \", day)\n",
        "print(\"Hour: \", hour)\n",
        "print(\"Minute: \", minute)\n",
        "print(\"Second: \", second)"
      ]
    },
    {
      "cell_type": "code",
      "execution_count": 13,
      "metadata": {},
      "outputs": [
        {
          "data": {
            "image/png": "[encoded data removed]",
            "text/plain": [
              "<Figure size 640x480 with 1 Axes>"
            ]
          },
          "metadata": {},
          "output_type": "display_data"
        }
      ],
      "source": [
        "cars = np.array([\"Caterham\", \"Tesla\", \"Audi\",  \"BMW\", \"Ford\", \"Jeep\"])\n",
        "weight = np.array([0.48, 1.7, 2, 2, 2.3, 3 ])\n",
        "plt.plot(cars,weight)\n",
        "plt.show()"
      ]
    },
    {
      "cell_type": "code",
      "execution_count": 14,
      "metadata": {},
      "outputs": [
        {
          "data": {
            "image/png": "[encoded data removed]",
            "text/plain": [
              "<Figure size 640x480 with 1 Axes>"
            ]
          },
          "metadata": {},
          "output_type": "display_data"
        }
      ],
      "source": [
        "car = np.array([\"Caterham\", \"Tesla\", \"Audi\",  \"BMW\", \"Ford\", \"Jeep\"])\n",
        "weight = np.array([0.48, 1.7, 2, 2, 2.3, 3 ])\n",
        "plt.scatter(car,weight)\n",
        "plt.show()"
      ]
    },
    {
      "cell_type": "code",
      "execution_count": 15,
      "metadata": {},
      "outputs": [
        {
          "data": {
            "text/plain": [
              "<BarContainer object of 6 artists>"
            ]
          },
          "execution_count": 15,
          "metadata": {},
          "output_type": "execute_result"
        },
        {
          "data": {
            "image/png": "[encoded data removed]",
            "text/plain": [
              "<Figure size 640x480 with 1 Axes>"
            ]
          },
          "metadata": {},
          "output_type": "display_data"
        }
      ],
      "source": [
        "car = np.array([\"Caterham\", \"Tesla\", \"Audi\",  \"BMW\", \"Ford\", \"Jeep\"])\n",
        "weight = np.array([0.48, 1.7, 2, 2, 2.3, 3 ])\n",
        "plt.bar(car,weight)"
      ]
    },
    {
      "cell_type": "code",
      "execution_count": null,
      "metadata": {},
      "outputs": [],
      "source": []
    }
  ],
  "metadata": {
    "colab": {
      "provenance": []
    },
    "kernelspec": {
      "display_name": "Python 3",
      "name": "python3"
    },
    "language_info": {
      "codemirror_mode": {
        "name": "ipython",
        "version": 3
      },
      "file_extension": ".py",
      "mimetype": "text/x-python",
      "name": "python",
      "nbconvert_exporter": "python",
      "pygments_lexer": "ipython3",
      "version": "3.12.0"
    }
  },
  "nbformat": 4,
  "nbformat_minor": 0
}
